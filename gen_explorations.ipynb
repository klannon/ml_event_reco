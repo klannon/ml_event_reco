{
 "cells": [
  {
   "cell_type": "code",
   "execution_count": null,
   "metadata": {},
   "outputs": [],
   "source": [
    "# Some basic setup for this notebook\n",
    "%load_ext autoreload\n",
    "%autoreload 2"
   ]
  },
  {
   "cell_type": "code",
   "execution_count": null,
   "metadata": {},
   "outputs": [],
   "source": [
    "# Some useful imports\n",
    "import awkward as ak\n",
    "from coffea.nanoevents import NanoEventsFactory, NanoAODSchema\n",
    "import pandas as pd"
   ]
  },
  {
   "cell_type": "code",
   "execution_count": null,
   "metadata": {},
   "outputs": [],
   "source": [
    "# Load some data.  Not very much because we're just going to play around with some things\n",
    "fname = '/scratch365/kmohrman/mc_files/all_17_18_with_subdirs/ttHJetToNonbb_M125/Tree_ttHJetToNonbb_M125_TuneCP5_amcatnloFXFX_madspin_0.root'\n",
    "# Note: just reads in 5 events (e.g. entry_stop=5)\n",
    "events = NanoEventsFactory.from_root(fname, schemaclass=NanoAODSchema,entry_start=0,entry_stop=5).events()\n",
    "\n",
    "# Note 2: There will be a bunch of warnings about \"missing cross-references.\"  Those are fine."
   ]
  },
  {
   "cell_type": "code",
   "execution_count": null,
   "metadata": {},
   "outputs": [],
   "source": [
    "# Let's look at the gen particle info.  We'll take advantage of pandas here.\n",
    "data = {\n",
    "    'pdgId':events.GenPart.pdgId[0],\n",
    "    'pt':events.GenPart.pt[0],\n",
    "    'eta':events.GenPart.eta[0],\n",
    "    'phi':events.GenPart.phi[0],\n",
    "    'mass':events.GenPart.mass[0],\n",
    "    'status':events.GenPart.status[0],\n",
    "    'parent':events.GenPart.distinctParentIdxG[0],\n",
    "}\n",
    "df = pd.DataFrame(data=data)\n",
    "df.style"
   ]
  },
  {
   "cell_type": "markdown",
   "metadata": {},
   "source": [
    "# Things to Try\n",
    "1. Count the number of top quarks in the first five events.\n",
    "2. Count the number of decay products of the top quarks (i.e. their children) in each event.\n",
    "3. For the first event, list only the \"final state\" particles.  (These have status = 1.)\n",
    "4. Find the \"distinct parent\" of each electron or muon in the first event.\n",
    "5. From the first event, list only the \"hard process\" particles.  These are the ones that are directly connected to the initial collision.  There is a status flag ('isHardProcess') that indicates which particles these are.  See the NanoEvents documentation for details on how to check status flags.\n",
    "\n",
    "## References\n",
    "1.  [Particle numbering scheme (i.e. pdgId)](https://pdg.lbl.gov/2021/reviews/rpp2020-rev-monte-carlo-numbering.pdf)\n",
    "2.  [Coffea documentation on \"NanoEvents\"](https://coffeateam.github.io/coffea/notebooks/nanoevents.html#NanoEvents-tutorial)\n",
    " "
   ]
  },
  {
   "cell_type": "code",
   "execution_count": null,
   "metadata": {},
   "outputs": [],
   "source": []
  }
 ],
 "metadata": {
  "kernelspec": {
   "display_name": "ml-reco-env",
   "language": "python",
   "name": "ml-reco-env"
  },
  "language_info": {
   "codemirror_mode": {
    "name": "ipython",
    "version": 3
   },
   "file_extension": ".py",
   "mimetype": "text/x-python",
   "name": "python",
   "nbconvert_exporter": "python",
   "pygments_lexer": "ipython3",
   "version": "3.9.4"
  }
 },
 "nbformat": 4,
 "nbformat_minor": 2
}
